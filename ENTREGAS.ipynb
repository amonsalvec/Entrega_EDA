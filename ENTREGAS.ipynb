{
 "cells": [
  {
   "attachments": {},
   "cell_type": "markdown",
   "metadata": {
    "colab_type": "text",
    "id": "JpS8k_tshonl"
   },
   "source": [
    "## Web scrapping de IMDB"
   ]
  },
  {
   "cell_type": "code",
   "execution_count": 152,
   "metadata": {},
   "outputs": [],
   "source": [
    "from bs4 import BeautifulSoup as bs\n",
    "import requests\n",
    "import pandas as pd\n",
    "# from splinter import Browser\n",
    "import numpy as np"
   ]
  },
  {
   "cell_type": "code",
   "execution_count": 199,
   "metadata": {},
   "outputs": [
    {
     "name": "stdout",
     "output_type": "stream",
     "text": [
      "<Response [200]>\n"
     ]
    }
   ],
   "source": [
    "from fake_useragent import UserAgent\n",
    "ua = UserAgent()\n",
    "headers = {'User-Agent': ua.random}\n",
    "url=\"https://www.elcorreo.com/temas/generales/accidentes-de-trafico.html\"\n",
    "response = requests.get(url, headers=headers)\n",
    "html = response.content \n",
    "soup = bs(html, 'html.parser')\n",
    "print(response)\n"
   ]
  },
  {
   "cell_type": "code",
   "execution_count": null,
   "metadata": {},
   "outputs": [
    {
     "name": "stdout",
     "output_type": "stream",
     "text": [
      "<a class=\"v-a-link\" href=\"https://www.elcorreo.com/bizkaia/consultar-patrulla-ertzaintza-bilbao-acaba-atropellada-propio-20250519101142-nt.html\" title=\"Para a consultar a una patrulla de la Ertzaintza en Bilbao y acaba atropellada por su propio coche\">\n",
      "<picture>\n",
      "<source media=\"(max-width: 698px)\" srcset=\"https://s3.ppllstatics.com/elcorreo/www/multimedia/2025/05/19/ala-ertzaintza-recurso-kZBG--562x393@El%20Correo.jpg\"/>\n",
      "<source media=\"(min-width: 699px)\" srcset=\"https://s2.ppllstatics.com/elcorreo/www/multimedia/2025/05/19/ala-ertzaintza-recurso-kZBG--366x256@El%20Correo.jpg\"/>\n",
      "<img alt=\"Para a consultar a una patrulla de la Ertzaintza en Bilbao y acaba atropellada por su propio coche\" class=\"v-a-img\" height=\"393\" src=\"https://s3.ppllstatics.com/elcorreo/www/multimedia/2025/05/19/ala-ertzaintza-recurso-kZBG--562x393@El%20Correo.jpg\" width=\"562\"/>\n",
      "</picture>\n",
      "</a>\n"
     ]
    }
   ],
   "source": []
  },
  {
   "cell_type": "code",
   "execution_count": 195,
   "metadata": {},
   "outputs": [
    {
     "name": "stdout",
     "output_type": "stream",
     "text": [
      "Texto: \n",
      "Para a consultar a una patrulla de la Ertzaintza en Bilbao y acaba atropellada por su propio coche\n",
      "\n",
      "Link: https://www.elcorreo.com/bizkaia/consultar-patrulla-ertzaintza-bilbao-acaba-atropellada-propio-20250519101142-nt.html\n",
      "---\n",
      "Texto: \n",
      "Cuatro hombres se pegan tras un accidente de tráfico y causan un atasco en Vitoria\n",
      "\n",
      "Link: https://www.elcorreo.com/alava/araba/cuatro-hombres-pegan-tras-accidente-trafico-causan-20250519002027-nt.html\n",
      "---\n",
      "Texto: \n",
      "Una colisión entre un camión y un coche obliga a cortar el acceso a la AP-1 en Armiñón\n",
      "\n",
      "Link: https://www.elcorreo.com/alava/araba/colision-camion-coche-obliga-cortar-acceso-ap1-arminon-20250514104045-nt.html\n",
      "---\n",
      "Texto: \n",
      "Una persona resulta herida en un accidente múltiple en La Avanzada\n",
      "\n",
      "Link: https://www.elcorreo.com/bizkaia/retenciones-barakaldo-sentido-bilbao-choque-dos-turismos-20250512084951-nt.html\n",
      "---\n",
      "Texto: \n",
      "Un accidente en la entrada a Bilbao por San Mamés dificultó este domingo la circulación\n",
      "\n",
      "Link: https://www.elcorreo.com/bizkaia/piden-precaucion-entrada-bilbao-san-mames-tras-20250511112252-nt.html\n",
      "---\n",
      "Texto: \n",
      "Corte de carril en la autovía N-622 en Álava tras el accidente de un camión\n",
      "\n",
      "Link: https://www.elcorreo.com/alava/araba/corte-carril-tras-accidente-camion-autovia-n622-20250510084528-nt.html\n",
      "---\n",
      "Texto: \n",
      "3,7 millones por el atropello de un niño: la mayor indemnización jamás fijada por un accidente\n",
      "\n",
      "Link: https://www.elcorreo.com/sociedad/millones-atropello-nino-mayor-indemnizacion-fijada-accidente-20250509195348-ntrc.html\n",
      "---\n",
      "Texto: \n",
      "Un herido al volcar su furgoneta en la AP-68 a su paso por Ribera Alta\n",
      "\n",
      "Link: https://www.elcorreo.com/alava/araba/herido-volcar-furgoneta-ap68-paso-ribera-alta-alava-20250509155505-nt.html\n",
      "---\n",
      "Texto: \n",
      "Colisión entre tres vehículos en la A-8 a la altura de Barakaldo dirección Cantabria\n",
      "\n",
      "Link: https://www.elcorreo.com/bizkaia/colision-tres-vehiculos-provoca-retenciones-barakaldo-direccion-20250506101901-nt.html\n",
      "---\n",
      "Texto: \n",
      "Las víctimas de accidentes rechazan las enmiendas a la Ley sobre Responsabilidad Civil y Seguro en la Circulación de Vehículos\n",
      "\n",
      "Link: https://www.elcorreo.com/motor/economia/victimas-accidentes-rechazan-enmiendas-ley-sobre-responsabilidad-20250505114011-ntrc.html\n",
      "---\n"
     ]
    }
   ],
   "source": [
    "# Para cada div, extraer el texto y el link\n",
    "lista_divs = soup.find_all(\"h2\")\n",
    "for div in lista_divs:\n",
    "    # Extraer el texto\n",
    "    texto = div.get_text()\n",
    "    # Extraer el link\n",
    "    link = div.find('a')['href']\n",
    "    # Imprimir el texto y el link\n",
    "    print(f'Texto: {texto}')\n",
    "    print(f'Link: {link}')\n",
    "    print('---')\n",
    "\n",
    "    "
   ]
  },
  {
   "cell_type": "code",
   "execution_count": null,
   "metadata": {},
   "outputs": [
    {
     "data": {
      "text/plain": [
       "[<span class=\"v-op__t\">\n",
       " H. Rodríguez\n",
       " </span>,\n",
       " <span class=\"v-op__t\">\n",
       " <a href=\"https://www.elcorreo.com/autor/david-gonzalez-176.html\" title=\"David González\">David González</a>\n",
       " </span>,\n",
       " <span class=\"v-op__t\">\n",
       " <a href=\"https://www.elcorreo.com/autor/nuria-nuno-161.html\" title=\"Nuria Nuño\">Nuria Nuño</a>\n",
       " </span>,\n",
       " <span class=\"v-op__t\">\n",
       " <a href=\"https://www.elcorreo.com/autor/leire-moro-6877.html\" title=\"Leire Moro\">Leire Moro</a>\n",
       " </span>,\n",
       " <span class=\"v-op__t\">\n",
       " <a href=\"https://www.elcorreo.com/autor/laura-gonzalez-2295.html\" title=\"Laura González\">Laura González</a>\n",
       " </span>,\n",
       " <span class=\"v-op__t\">\n",
       " Saioa Echeazarra\n",
       " </span>,\n",
       " <span class=\"v-op__t\">\n",
       " <a href=\"https://www.elcorreo.com/autor/rocio-mendoza-146.html\" title=\"Rocío Mendoza\">Rocío Mendoza</a>\n",
       " <span class=\"v-op__p\"> | Madrid</span>\n",
       " </span>,\n",
       " <span class=\"v-op__t\">\n",
       " <a href=\"https://www.elcorreo.com/autor/nuria-nuno-161.html\" title=\"Nuria Nuño\">Nuria Nuño</a>\n",
       " </span>,\n",
       " <span class=\"v-op__t\">\n",
       " L. Gil\n",
       " </span>,\n",
       " <span class=\"v-op__t\">\n",
       " Canal Motor\n",
       " </span>]"
      ]
     },
     "execution_count": 197,
     "metadata": {},
     "output_type": "execute_result"
    }
   ],
   "source": [
    "lista_author = soup.find_all(\"span\", class_=\"v-op__t\")\n",
    "lista_author\n",
    "# <span class=\"v-op__t\">\n",
    "# <a href=\"https://www.elcorreo.com/autor/david-gonzalez-176.html\" title=\"David González\">David González</a>\n",
    "# </span>\n",
    "for div in lista_author:\n",
    " # Extraer el autor del articulo\n",
    "     autor = div.get_text()\n",
    "     print(f'Autor: {autor}')\n",
    "     print('---')\n"
   ]
  },
  {
   "cell_type": "code",
   "execution_count": null,
   "metadata": {},
   "outputs": [
    {
     "data": {
      "text/plain": [
       "[<p class=\"v-a-cro-t\">\n",
       " 19 may. 2025\n",
       " <span>00:20</span>\n",
       " </p>,\n",
       " <p class=\"v-a-cro-t\">\n",
       " 14 may. 2025\n",
       " <span>10:41</span>\n",
       " </p>,\n",
       " <p class=\"v-a-cro-t\">\n",
       " 12 may. 2025\n",
       " <span>11:51</span>\n",
       " </p>,\n",
       " <p class=\"v-a-cro-t\">\n",
       " 11 may. 2025\n",
       " <span>12:52</span>\n",
       " </p>,\n",
       " <p class=\"v-a-cro-t\">\n",
       " 10 may. 2025\n",
       " <span>08:45</span>\n",
       " </p>,\n",
       " <p class=\"v-a-cro-t\">\n",
       " 09 may. 2025\n",
       " <span>19:53</span>\n",
       " </p>,\n",
       " <p class=\"v-a-cro-t\">\n",
       " 09 may. 2025\n",
       " <span>15:55</span>\n",
       " </p>,\n",
       " <p class=\"v-a-cro-t\">\n",
       " 06 may. 2025\n",
       " <span>11:47</span>\n",
       " </p>,\n",
       " <p class=\"v-a-cro-t\">\n",
       " 06 may. 2025\n",
       " <span>01:17</span>\n",
       " </p>]"
      ]
     },
     "execution_count": 198,
     "metadata": {},
     "output_type": "execute_result"
    }
   ],
   "source": [
    "lista_date = soup.find_all(\"p\", class_=\"v-a-cro-t\")\n",
    "lista_date\n",
    "# <span class=\"v-op__t\">\n",
    "# <a href=\"https://www.elcorreo.com/autor/david-gonzalez-176.html\" title=\"David González\">David González</a>\n",
    "# </span>\n",
    "for div in lista_date:\n",
    " # Extraer el autor del articulo\n",
    "    date = div.get_text()\n",
    "    dated = date.split(\"\\n\")[1]\n",
    "    datet = date.split(\"\\n\")[2]\n",
    "    print(f'Date: {dated}')\n",
    "    print('---')\n",
    "    print(f'Dated: {datet}')\n",
    "    print('***')\n",
    "\n"
   ]
  }
 ],
 "metadata": {
  "colab": {
   "name": "1-DataAccess.ipynb",
   "provenance": []
  },
  "kernelspec": {
   "display_name": "Python 3",
   "language": "python",
   "name": "python3"
  },
  "language_info": {
   "codemirror_mode": {
    "name": "ipython",
    "version": 3
   },
   "file_extension": ".py",
   "mimetype": "text/x-python",
   "name": "python",
   "nbconvert_exporter": "python",
   "pygments_lexer": "ipython3",
   "version": "3.12.9"
  }
 },
 "nbformat": 4,
 "nbformat_minor": 4
}
