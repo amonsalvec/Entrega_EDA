{
 "cells": [
  {
   "cell_type": "code",
   "execution_count": 1,
   "id": "eb3e55e6",
   "metadata": {},
   "outputs": [],
   "source": [
    "import pandas as pd\n",
    "from sklearn.model_selection import train_test_split\n",
    "from sklearn.pipeline import Pipeline\n",
    "from sklearn.compose import ColumnTransformer\n",
    "from sklearn.impute import SimpleImputer\n",
    "from sklearn.preprocessing import StandardScaler\n",
    "from sklearn.tree import DecisionTreeClassifier\n",
    "from sklearn.ensemble import RandomForestClassifier\n",
    "from sklearn.neighbors import KNeighborsClassifier\n",
    "from sklearn.svm import SVC\n",
    "from sklearn.metrics import classification_report, accuracy_score, roc_auc_score"
   ]
  },
  {
   "cell_type": "code",
   "execution_count": 2,
   "id": "d243ddef",
   "metadata": {},
   "outputs": [],
   "source": [
    "# Cargar datos\n",
    "df = pd.read_csv('../ML_Clasification/train.csv')"
   ]
  },
  {
   "cell_type": "code",
   "execution_count": 3,
   "id": "d0a7eeb1",
   "metadata": {},
   "outputs": [],
   "source": [
    "# Separar predictores y variable objetivo\n",
    "X = df.drop(columns=['ID', 'SeriousDlqin2yrs'])\n",
    "y = df['SeriousDlqin2yrs']"
   ]
  },
  {
   "cell_type": "code",
   "execution_count": 4,
   "id": "5383562c",
   "metadata": {},
   "outputs": [],
   "source": [
    "# División train/test\n",
    "data_test = pd.read_csv('../ML_Clasification/test.csv')\n",
    "X_test = data_test.drop(columns=['ID'])\n"
   ]
  },
  {
   "cell_type": "code",
   "execution_count": 44,
   "id": "776612bd",
   "metadata": {},
   "outputs": [
    {
     "data": {
      "text/plain": [
       "0        129460\n",
       "1        134018\n",
       "2         86523\n",
       "3        138466\n",
       "4        143905\n",
       "          ...  \n",
       "44995    124596\n",
       "44996     75895\n",
       "44997     92453\n",
       "44998    139288\n",
       "44999     59825\n",
       "Name: ID, Length: 45000, dtype: int64"
      ]
     },
     "execution_count": 44,
     "metadata": {},
     "output_type": "execute_result"
    }
   ],
   "source": [
    "data_test.ID"
   ]
  },
  {
   "cell_type": "code",
   "execution_count": null,
   "id": "01093f93",
   "metadata": {},
   "outputs": [],
   "source": [
    "# Preprocesamiento: imputar y escalar\n",
    "numeric_features = X.columns.tolist()\n",
    "numeric_transformer = Pipeline([\n",
    "    ('imputer', SimpleImputer(strategy='median')),\n",
    "    ('scaler', StandardScaler())\n",
    "])\n",
    "preprocessor = ColumnTransformer([\n",
    "    ('num', numeric_transformer, numeric_features)\n",
    "])\n",
    "\n",
    "# Modelos con hiperparámetros ajustados\n",
    "modelos = {\n",
    "    #'Arbol_Decision': DecisionTreeClassifier(max_depth=3, random_state=42),\n",
    "    #'KNN': KNeighborsClassifier(n_neighbors=5),\n",
    "    #'Random_Forest': RandomForestClassifier(n_estimators=50, max_depth=3, random_state=42),\n",
    "    'SVM': SVC(kernel='rbf', C=1.0, probability=True, random_state=42)\n",
    "}\n",
    "\n",
    "# Evaluación\n",
    "mejor_modelo = None\n",
    "mejor_score = 0\n",
    "mejor_nombre = ''\n",
    "reportes = {}\n",
    "\n",
    "for nombre, modelo in modelos.items():\n",
    "    pipeline = Pipeline([\n",
    "        ('preprocessor', preprocessor),\n",
    "        ('classifier', modelo)\n",
    "    ])\n",
    "    \n",
    "    # Entrenar\n",
    "    pipeline.fit(X, y)\n",
    "    \n",
    "    # Predicción de probabilidades\n",
    "    y_proba_train = pipeline.predict_proba(X)[:, 1]\n",
    "    auc = roc_auc_score(y, y_proba_train)\n",
    "    \n",
    "    print(f'\\n🧪 Modelo: {nombre}')\n",
    "    print(f'🔍 ROC AUC: {auc:.4f}')\n",
    "    print(classification_report(y, pipeline.predict(X_test)))\n",
    "\n",
    "    reportes[nombre] = auc\n",
    "    if auc > mejor_score:\n",
    "        mejor_score = auc\n",
    "        mejor_modelo = pipeline\n",
    "        mejor_nombre = nombre\n"
   ]
  },
  {
   "cell_type": "code",
   "execution_count": 46,
   "id": "e49fe4a1",
   "metadata": {},
   "outputs": [],
   "source": [
    "# Exportar predicciones\n",
    "y_pred_final = mejor_modelo.predict(X_test)"
   ]
  },
  {
   "cell_type": "code",
   "execution_count": 47,
   "id": "024510a9",
   "metadata": {},
   "outputs": [
    {
     "name": "stdout",
     "output_type": "stream",
     "text": [
      "\n",
      "✅ Mejor modelo: Arbol_Decision con ROC AUC: 0.8006\n"
     ]
    }
   ],
   "source": [
    "df_resultado = pd.DataFrame({\n",
    "    'ID': data_test.ID,\n",
    "    'Prediction': y_pred_final\n",
    "})\n",
    "df_resultado.to_csv(f'predicciones_{mejor_nombre.replace(\" \", \"_\").lower()}.csv', index=False)\n",
    "\n",
    "print(f'\\n✅ Mejor modelo: {mejor_nombre} con ROC AUC: {mejor_score:.4f}')"
   ]
  },
  {
   "cell_type": "code",
   "execution_count": 5,
   "id": "5278b057",
   "metadata": {},
   "outputs": [
    {
     "name": "stderr",
     "output_type": "stream",
     "text": [
      "ERROR: Could not find a version that satisfies the requirement imble-learn (from versions: none)\n",
      "ERROR: No matching distribution found for imble-learn\n"
     ]
    }
   ],
   "source": [
    "#!pip install xgboost\n",
    "#!pip install lightgbm!\n",
    "#!pip install catboost\n",
    "!pip install imble-learn"
   ]
  },
  {
   "cell_type": "code",
   "execution_count": 10,
   "id": "14645acb",
   "metadata": {},
   "outputs": [
    {
     "name": "stderr",
     "output_type": "stream",
     "text": [
      "c:\\Users\\abela\\AppData\\Local\\Programs\\Python\\Python313\\Lib\\site-packages\\xgboost\\training.py:183: UserWarning: [17:40:38] WARNING: C:\\actions-runner\\_work\\xgboost\\xgboost\\src\\learner.cc:738: \n",
      "Parameters: { \"use_label_encoder\" } are not used.\n",
      "\n",
      "  bst.update(dtrain, iteration=i, fobj=obj)\n",
      "c:\\Users\\abela\\AppData\\Local\\Programs\\Python\\Python313\\Lib\\site-packages\\xgboost\\training.py:183: UserWarning: [17:40:38] WARNING: C:\\actions-runner\\_work\\xgboost\\xgboost\\src\\learner.cc:738: \n",
      "Parameters: { \"use_label_encoder\" } are not used.\n",
      "\n",
      "  bst.update(dtrain, iteration=i, fobj=obj)\n",
      "c:\\Users\\abela\\AppData\\Local\\Programs\\Python\\Python313\\Lib\\site-packages\\xgboost\\training.py:183: UserWarning: [17:40:38] WARNING: C:\\actions-runner\\_work\\xgboost\\xgboost\\src\\learner.cc:738: \n",
      "Parameters: { \"use_label_encoder\" } are not used.\n",
      "\n",
      "  bst.update(dtrain, iteration=i, fobj=obj)\n",
      "c:\\Users\\abela\\AppData\\Local\\Programs\\Python\\Python313\\Lib\\site-packages\\xgboost\\training.py:183: UserWarning: [17:40:39] WARNING: C:\\actions-runner\\_work\\xgboost\\xgboost\\src\\learner.cc:738: \n",
      "Parameters: { \"use_label_encoder\" } are not used.\n",
      "\n",
      "  bst.update(dtrain, iteration=i, fobj=obj)\n",
      "c:\\Users\\abela\\AppData\\Local\\Programs\\Python\\Python313\\Lib\\site-packages\\xgboost\\training.py:183: UserWarning: [17:40:39] WARNING: C:\\actions-runner\\_work\\xgboost\\xgboost\\src\\learner.cc:738: \n",
      "Parameters: { \"use_label_encoder\" } are not used.\n",
      "\n",
      "  bst.update(dtrain, iteration=i, fobj=obj)\n"
     ]
    },
    {
     "name": "stdout",
     "output_type": "stream",
     "text": [
      "AUC promedio XGBoost: 0.8496\n",
      "AUC promedio GradientBoosting: 0.8616\n"
     ]
    }
   ],
   "source": [
    "import pandas as pd\n",
    "import numpy as np\n",
    "\n",
    "from sklearn.model_selection import train_test_split, cross_val_score\n",
    "from sklearn.pipeline import Pipeline\n",
    "from sklearn.compose import ColumnTransformer\n",
    "from sklearn.preprocessing import OneHotEncoder, StandardScaler\n",
    "from sklearn.impute import SimpleImputer\n",
    "from sklearn.ensemble import GradientBoostingClassifier\n",
    "from xgboost import XGBClassifier\n",
    "from sklearn.metrics import roc_auc_score\n",
    "\n",
    "# === 1. Carga de Datos ===\n",
    "\n",
    "# === 2. Separar target y features ===\n",
    "\n",
    "# === 3. Identificar variables categóricas y numéricas ===\n",
    "cat_cols = X.select_dtypes(include=[\"object\", \"category\"]).columns.tolist()\n",
    "num_cols = X.select_dtypes(include=[np.number]).columns.tolist()\n",
    "\n",
    "# === 4. Preprocesamiento ===\n",
    "numeric_transformer = Pipeline(steps=[\n",
    "    (\"imputer\", SimpleImputer(strategy=\"median\")),\n",
    "    (\"scaler\", StandardScaler())\n",
    "])\n",
    "\n",
    "categorical_transformer = Pipeline(steps=[\n",
    "    (\"imputer\", SimpleImputer(strategy=\"most_frequent\")),\n",
    "    (\"onehot\", OneHotEncoder(handle_unknown=\"ignore\"))\n",
    "])\n",
    "\n",
    "preprocessor = ColumnTransformer(\n",
    "    transformers=[\n",
    "        (\"num\", numeric_transformer, num_cols),\n",
    "        (\"cat\", categorical_transformer, cat_cols)\n",
    "    ]\n",
    ")\n",
    "\n",
    "# === 5. Modelos ===\n",
    "xgb = Pipeline(steps=[\n",
    "    (\"preprocessor\", preprocessor),\n",
    "    (\"classifier\", XGBClassifier(use_label_encoder=False, eval_metric=\"logloss\", random_state=42))\n",
    "])\n",
    "\n",
    "gbc = Pipeline(steps=[\n",
    "    (\"preprocessor\", preprocessor),\n",
    "    (\"classifier\", GradientBoostingClassifier(random_state=42))\n",
    "])\n",
    "\n",
    "# === 6. Validación cruzada con AUC ===\n",
    "from sklearn.model_selection import StratifiedKFold\n",
    "\n",
    "cv = StratifiedKFold(n_splits=5, shuffle=True, random_state=42)\n",
    "\n",
    "xgb_auc = cross_val_score(xgb, X, y, cv=cv, scoring=\"roc_auc\").mean()\n",
    "gbc_auc = cross_val_score(gbc, X, y, cv=cv, scoring=\"roc_auc\").mean()\n",
    "\n",
    "print(f\"AUC promedio XGBoost: {xgb_auc:.4f}\")\n",
    "print(f\"AUC promedio GradientBoosting: {gbc_auc:.4f}\")\n"
   ]
  },
  {
   "cell_type": "code",
   "execution_count": 11,
   "id": "249dfaad",
   "metadata": {},
   "outputs": [],
   "source": [
    "\n",
    "# === 7. Selección del mejor modelo y ajuste final ===\n",
    "best_model = xgb if xgb_auc > gbc_auc else gbc\n",
    "best_model.fit(X, y)\n",
    "\n",
    "# === 8. Predicción sobre conjunto de prueba ===\n",
    "y_pred_proba = best_model.predict_proba(X_test)[:, 1]\n",
    "\n",
    "# === 9. Guardar resultados ===\n",
    "submission = pd.DataFrame({\n",
    "    \"id\": data_test.ID,\n",
    "    \"predicted_probability\": y_pred_proba\n",
    "})\n",
    "submission.to_csv(\"predicciones.csv\", index=False)\n"
   ]
  },
  {
   "cell_type": "code",
   "execution_count": 18,
   "id": "cf039c0b",
   "metadata": {},
   "outputs": [
    {
     "data": {
      "text/plain": [
       "[('XGBoost',\n",
       "  Pipeline(steps=[('pre',\n",
       "                   ColumnTransformer(transformers=[('num',\n",
       "                                                    Pipeline(steps=[('imp',\n",
       "                                                                     SimpleImputer(strategy='median')),\n",
       "                                                                    ('sc',\n",
       "                                                                     StandardScaler())]),\n",
       "                                                    ['RevolvingUtilizationOfUnsecuredLines',\n",
       "                                                     'Age',\n",
       "                                                     'NumberOfTime30-59DaysPastDueNotWorse',\n",
       "                                                     'DebtRatio', 'MonthlyIncome',\n",
       "                                                     'NumberOfOpenCreditLinesAndLoans',\n",
       "                                                     'NumberOfTimes90DaysLate',\n",
       "                                                     'NumberRealEstateLoansOrLines',\n",
       "                                                     '...\n",
       "                                 feature_types=None, feature_weights=None,\n",
       "                                 gamma=None, grow_policy=None,\n",
       "                                 importance_type=None,\n",
       "                                 interaction_constraints=None, learning_rate=None,\n",
       "                                 max_bin=None, max_cat_threshold=None,\n",
       "                                 max_cat_to_onehot=None, max_delta_step=None,\n",
       "                                 max_depth=None, max_leaves=None,\n",
       "                                 min_child_weight=None, missing=nan,\n",
       "                                 monotone_constraints=None, multi_strategy=None,\n",
       "                                 n_estimators=None, n_jobs=-1,\n",
       "                                 num_parallel_tree=None, ...))]),\n",
       "  {'clf__n_estimators': [300, 400, 500],\n",
       "   'clf__max_depth': [4, 6, 8],\n",
       "   'clf__learning_rate': [0.05, 0.1],\n",
       "   'clf__subsample': [0.8, 1.0]}),\n",
       " ('LightGBM',\n",
       "  Pipeline(steps=[('pre',\n",
       "                   ColumnTransformer(transformers=[('num',\n",
       "                                                    Pipeline(steps=[('imp',\n",
       "                                                                     SimpleImputer(strategy='median')),\n",
       "                                                                    ('sc',\n",
       "                                                                     StandardScaler())]),\n",
       "                                                    ['RevolvingUtilizationOfUnsecuredLines',\n",
       "                                                     'Age',\n",
       "                                                     'NumberOfTime30-59DaysPastDueNotWorse',\n",
       "                                                     'DebtRatio', 'MonthlyIncome',\n",
       "                                                     'NumberOfOpenCreditLinesAndLoans',\n",
       "                                                     'NumberOfTimes90DaysLate',\n",
       "                                                     'NumberRealEstateLoansOrLines',\n",
       "                                                     'NumberOfTime60-89DaysPastDueNotWorse',\n",
       "                                                     'NumberOfDependents'])])),\n",
       "                  ('clf',\n",
       "                   LGBMClassifier(is_unbalance=True, n_jobs=-1,\n",
       "                                  objective='binary', random_state=42))]),\n",
       "  {'clf__n_estimators': [500, 800],\n",
       "   'clf__learning_rate': [0.05, 0.1],\n",
       "   'clf__num_leaves': [31, 63, 127],\n",
       "   'clf__max_depth': [-1, 6, 8]}),\n",
       " ('AdaBoost',\n",
       "  Pipeline(steps=[('pre',\n",
       "                   ColumnTransformer(transformers=[('num',\n",
       "                                                    Pipeline(steps=[('imp',\n",
       "                                                                     SimpleImputer(strategy='median')),\n",
       "                                                                    ('sc',\n",
       "                                                                     StandardScaler())]),\n",
       "                                                    ['RevolvingUtilizationOfUnsecuredLines',\n",
       "                                                     'Age',\n",
       "                                                     'NumberOfTime30-59DaysPastDueNotWorse',\n",
       "                                                     'DebtRatio', 'MonthlyIncome',\n",
       "                                                     'NumberOfOpenCreditLinesAndLoans',\n",
       "                                                     'NumberOfTimes90DaysLate',\n",
       "                                                     'NumberRealEstateLoansOrLines',\n",
       "                                                     'NumberOfTime60-89DaysPastDueNotWorse',\n",
       "                                                     'NumberOfDependents'])])),\n",
       "                  ('sm', SMOTE(random_state=42)),\n",
       "                  ('clf', AdaBoostClassifier(random_state=42))]),\n",
       "  {'clf__n_estimators': [200, 400], 'clf__learning_rate': [0.5, 1.0]}),\n",
       " ('RandomForest',\n",
       "  Pipeline(steps=[('pre',\n",
       "                   ColumnTransformer(transformers=[('num',\n",
       "                                                    Pipeline(steps=[('imp',\n",
       "                                                                     SimpleImputer(strategy='median')),\n",
       "                                                                    ('sc',\n",
       "                                                                     StandardScaler())]),\n",
       "                                                    ['RevolvingUtilizationOfUnsecuredLines',\n",
       "                                                     'Age',\n",
       "                                                     'NumberOfTime30-59DaysPastDueNotWorse',\n",
       "                                                     'DebtRatio', 'MonthlyIncome',\n",
       "                                                     'NumberOfOpenCreditLinesAndLoans',\n",
       "                                                     'NumberOfTimes90DaysLate',\n",
       "                                                     'NumberRealEstateLoansOrLines',\n",
       "                                                     'NumberOfTime60-89DaysPastDueNotWorse',\n",
       "                                                     'NumberOfDependents'])])),\n",
       "                  ('clf',\n",
       "                   RandomForestClassifier(class_weight='balanced', n_jobs=-1,\n",
       "                                          random_state=42))]),\n",
       "  {'clf__n_estimators': [400, 600],\n",
       "   'clf__max_depth': [8, 12],\n",
       "   'clf__min_samples_split': [2, 10]}),\n",
       " ('GradientBoost',\n",
       "  Pipeline(steps=[('pre',\n",
       "                   ColumnTransformer(transformers=[('num',\n",
       "                                                    Pipeline(steps=[('imp',\n",
       "                                                                     SimpleImputer(strategy='median')),\n",
       "                                                                    ('sc',\n",
       "                                                                     StandardScaler())]),\n",
       "                                                    ['RevolvingUtilizationOfUnsecuredLines',\n",
       "                                                     'Age',\n",
       "                                                     'NumberOfTime30-59DaysPastDueNotWorse',\n",
       "                                                     'DebtRatio', 'MonthlyIncome',\n",
       "                                                     'NumberOfOpenCreditLinesAndLoans',\n",
       "                                                     'NumberOfTimes90DaysLate',\n",
       "                                                     'NumberRealEstateLoansOrLines',\n",
       "                                                     'NumberOfTime60-89DaysPastDueNotWorse',\n",
       "                                                     'NumberOfDependents'])])),\n",
       "                  ('sm', SMOTE(random_state=42)),\n",
       "                  ('clf', GradientBoostingClassifier(random_state=42))]),\n",
       "  {'clf__n_estimators': [300, 500],\n",
       "   'clf__learning_rate': [0.05, 0.1],\n",
       "   'clf__max_depth': [3, 5]})]"
      ]
     },
     "execution_count": 18,
     "metadata": {},
     "output_type": "execute_result"
    }
   ],
   "source": [
    "models_spaces\n"
   ]
  },
  {
   "cell_type": "code",
   "execution_count": null,
   "id": "f620d5fe",
   "metadata": {},
   "outputs": [],
   "source": []
  }
 ],
 "metadata": {
  "kernelspec": {
   "display_name": "Python 3",
   "language": "python",
   "name": "python3"
  },
  "language_info": {
   "codemirror_mode": {
    "name": "ipython",
    "version": 3
   },
   "file_extension": ".py",
   "mimetype": "text/x-python",
   "name": "python",
   "nbconvert_exporter": "python",
   "pygments_lexer": "ipython3",
   "version": "3.13.2"
  }
 },
 "nbformat": 4,
 "nbformat_minor": 5
}
