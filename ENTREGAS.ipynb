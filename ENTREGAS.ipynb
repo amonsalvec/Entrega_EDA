{
 "cells": [
  {
   "attachments": {},
   "cell_type": "markdown",
   "metadata": {
    "colab_type": "text",
    "id": "JpS8k_tshonl"
   },
   "source": [
    "## Web scrapping de IMDB"
   ]
  },
  {
   "cell_type": "code",
   "execution_count": 1,
   "metadata": {},
   "outputs": [],
   "source": [
    "from bs4 import BeautifulSoup as bs\n",
    "import requests\n",
    "import pandas as pd\n",
    "# from splinter import Browser\n",
    "import numpy as np"
   ]
  },
  {
   "cell_type": "code",
   "execution_count": 137,
   "metadata": {},
   "outputs": [
    {
     "name": "stdout",
     "output_type": "stream",
     "text": [
      "<Response [200]>\n"
     ]
    }
   ],
   "source": [
    "from fake_useragent import UserAgent\n",
    "ua = UserAgent()\n",
    "headers = {'User-Agent': ua.random}\n",
    "url=\"https://www.elcorreo.com/temas/generales/accidentes-de-trafico.html\"\n",
    "response = requests.get(url, headers=headers)\n",
    "html = response.content \n",
    "soup = bs(html, 'html.parser')\n",
    "print(response)\n"
   ]
  },
  {
   "cell_type": "code",
   "execution_count": 154,
   "metadata": {},
   "outputs": [
    {
     "name": "stdout",
     "output_type": "stream",
     "text": [
      "titular: \n",
      "Para a consultar a una patrulla de la Ertzaintza en Bilbao y acaba atropellada por su propio coche\n",
      "\n",
      "---\n",
      "titular: \n",
      "Cuatro hombres se pegan tras un accidente de tráfico y causan un atasco en Vitoria\n",
      "\n",
      "---\n",
      "titular: \n",
      "Una colisión entre un camión y un coche obliga a cortar el acceso a la AP-1 en Armiñón\n",
      "\n",
      "---\n",
      "titular: \n",
      "Una persona resulta herida en un accidente múltiple en La Avanzada\n",
      "\n",
      "---\n",
      "titular: \n",
      "Un accidente en la entrada a Bilbao por San Mamés dificultó este domingo la circulación\n",
      "\n",
      "---\n",
      "titular: \n",
      "Corte de carril en la autovía N-622 en Álava tras el accidente de un camión\n",
      "\n",
      "---\n",
      "titular: \n",
      "3,7 millones por el atropello de un niño: la mayor indemnización jamás fijada por un accidente\n",
      "\n",
      "---\n",
      "titular: \n",
      "Un herido al volcar su furgoneta en la AP-68 a su paso por Ribera Alta\n",
      "\n",
      "---\n",
      "titular: \n",
      "Colisión entre tres vehículos en la A-8 a la altura de Barakaldo dirección Cantabria\n",
      "\n",
      "---\n",
      "titular: \n",
      "Las víctimas de accidentes rechazan las enmiendas a la Ley sobre Responsabilidad Civil y Seguro en la Circulación de Vehículos\n",
      "\n",
      "---\n",
      "                                             titular\n",
      "0  \\nPara a consultar a una patrulla de la Ertzai...\n",
      "1  \\nCuatro hombres se pegan tras un accidente de...\n",
      "2  \\nUna colisión entre un camión y un coche obli...\n",
      "3  \\nUna persona resulta herida en un accidente m...\n",
      "4  \\nUn accidente en la entrada a Bilbao por San ...\n",
      "5  \\nCorte de carril en la autovía N-622 en Álava...\n",
      "6  \\n3,7 millones por el atropello de un niño: la...\n",
      "7  \\nUn herido al volcar su furgoneta en la AP-68...\n",
      "8  \\nColisión entre tres vehículos en la A-8 a la...\n",
      "9  \\nLas víctimas de accidentes rechazan las enmi...\n"
     ]
    }
   ],
   "source": [
    "# Para cada div, extraer el texto y el link\n",
    "lista_titular = soup.find_all(\"h2\")\n",
    "\n",
    "titular = []\n",
    "\n",
    "for div in lista_titular:\n",
    "    # Extraer el texto\n",
    "    texto = div.get_text()\n",
    "    titular.append(texto)\n",
    "    print(f'titular: {texto}')\n",
    "    print('---')\n",
    "\n",
    "titular =pd.DataFrame(titular)\n",
    "titular.columns = ['titular']    \n",
    "\n",
    "print(titular)"
   ]
  },
  {
   "cell_type": "code",
   "execution_count": 159,
   "metadata": {},
   "outputs": [
    {
     "name": "stdout",
     "output_type": "stream",
     "text": [
      "Autor: \n",
      "H. Rodríguez\n",
      "\n",
      "---\n",
      "Autor: \n",
      "David González\n",
      "\n",
      "---\n",
      "Autor: \n",
      "Nuria Nuño\n",
      "\n",
      "---\n",
      "Autor: \n",
      "Leire Moro\n",
      "\n",
      "---\n",
      "Autor: \n",
      "Laura González\n",
      "\n",
      "---\n",
      "Autor: \n",
      "Saioa Echeazarra\n",
      "\n",
      "---\n",
      "Autor: \n",
      "Rocío Mendoza\n",
      " | Madrid\n",
      "\n",
      "---\n",
      "Autor: \n",
      "Nuria Nuño\n",
      "\n",
      "---\n",
      "Autor: \n",
      "L. Gil\n",
      "\n",
      "---\n",
      "Autor: \n",
      "Canal Motor\n",
      "\n",
      "---\n",
      "                          Autor\n",
      "0              \\nH. Rodríguez\\n\n",
      "1            \\nDavid González\\n\n",
      "2                \\nNuria Nuño\\n\n",
      "3                \\nLeire Moro\\n\n",
      "4            \\nLaura González\\n\n",
      "5          \\nSaioa Echeazarra\\n\n",
      "6  \\nRocío Mendoza\\n | Madrid\\n\n",
      "7                \\nNuria Nuño\\n\n",
      "8                    \\nL. Gil\\n\n",
      "9               \\nCanal Motor\\n\n"
     ]
    }
   ],
   "source": [
    "lista_author = soup.find_all(\"span\", class_=\"v-op__t\")\n",
    "author = []\n",
    "\n",
    "for div in lista_author:\n",
    " # Extraer el autor del articulo\n",
    "     autor = div.get_text()\n",
    "     autor = autor.replace('Por ', '')\n",
    "     author.append(autor)\n",
    "     print(f'Autor: {autor}')\n",
    "     print('---')\n",
    "\n",
    "autor = pd.DataFrame(author)\n",
    "autor.columns = ['Autor']\n",
    "\n",
    "print(autor)     \n"
   ]
  },
  {
   "cell_type": "code",
   "execution_count": null,
   "metadata": {},
   "outputs": [
    {
     "data": {
      "text/plain": [
       "[<p class=\"v-a-cro-t\">\n",
       " 19 may. 2025\n",
       " <span>00:20</span>\n",
       " </p>,\n",
       " <p class=\"v-a-cro-t\">\n",
       " 14 may. 2025\n",
       " <span>10:41</span>\n",
       " </p>,\n",
       " <p class=\"v-a-cro-t\">\n",
       " 12 may. 2025\n",
       " <span>11:51</span>\n",
       " </p>,\n",
       " <p class=\"v-a-cro-t\">\n",
       " 11 may. 2025\n",
       " <span>12:52</span>\n",
       " </p>,\n",
       " <p class=\"v-a-cro-t\">\n",
       " 10 may. 2025\n",
       " <span>08:45</span>\n",
       " </p>,\n",
       " <p class=\"v-a-cro-t\">\n",
       " 09 may. 2025\n",
       " <span>19:53</span>\n",
       " </p>,\n",
       " <p class=\"v-a-cro-t\">\n",
       " 09 may. 2025\n",
       " <span>15:55</span>\n",
       " </p>,\n",
       " <p class=\"v-a-cro-t\">\n",
       " 06 may. 2025\n",
       " <span>11:47</span>\n",
       " </p>,\n",
       " <p class=\"v-a-cro-t\">\n",
       " 06 may. 2025\n",
       " <span>01:17</span>\n",
       " </p>]"
      ]
     },
     "execution_count": 198,
     "metadata": {},
     "output_type": "execute_result"
    }
   ],
   "source": [
    "lista_date = soup.find_all(\"p\", class_=\"v-a-cro-t\")\n",
    "lista_date\n",
    "# <span class=\"v-op__t\">\n",
    "# <a href=\"https://www.elcorreo.com/autor/david-gonzalez-176.html\" title=\"David González\">David González</a>\n",
    "# </span>\n",
    "for div in lista_date:\n",
    " # Extraer el autor del articulo\n",
    "    date = div.get_text()\n",
    "    dated = date.split(\"\\n\")[1]\n",
    "    datet = date.split(\"\\n\")[2]\n",
    "    print(f'Date: {dated}')\n",
    "    print('---')\n",
    "    print(f'Dated: {datet}')\n",
    "    print('***')\n",
    "\n"
   ]
  }
 ],
 "metadata": {
  "colab": {
   "name": "1-DataAccess.ipynb",
   "provenance": []
  },
  "kernelspec": {
   "display_name": "Python 3",
   "language": "python",
   "name": "python3"
  },
  "language_info": {
   "codemirror_mode": {
    "name": "ipython",
    "version": 3
   },
   "file_extension": ".py",
   "mimetype": "text/x-python",
   "name": "python",
   "nbconvert_exporter": "python",
   "pygments_lexer": "ipython3",
   "version": "3.13.2"
  }
 },
 "nbformat": 4,
 "nbformat_minor": 4
}
